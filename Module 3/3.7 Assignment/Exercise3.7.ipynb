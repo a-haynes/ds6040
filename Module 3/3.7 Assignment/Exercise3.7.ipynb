{
 "cells": [
  {
   "cell_type": "markdown",
   "id": "2d0a8380-bb40-4ed9-9f8b-633064f6eaa2",
   "metadata": {},
   "source": [
    "# Exercise 3.7: Bayes Regression\n",
    "## DS 6040 Bayesian Machine Learning\n",
    "### Drew Haynes (rbc6wr)"
   ]
  },
  {
   "cell_type": "markdown",
   "id": "1d2e152a-f6d9-41c1-81fe-4cc4ff2d1b8d",
   "metadata": {
    "tags": []
   },
   "source": [
    "Look at Figure 12.1 on page 593 of the book by Theodoridis. Explain how\n",
    "the graph will change if σ<sub>η</sub> = 0.05, N = 500, and σ<sub>θ</sub> = 0.15."
   ]
  },
  {
   "cell_type": "markdown",
   "id": "886e2851-ada2-4614-acdf-911ae27cdfa0",
   "metadata": {},
   "source": [
    "<img src=\"https://github.com/a-haynes/ds6040/blob/main/figure12-1.png?raw=true\"\n",
    "     alt=\"Figure 12.1\"\n",
    "     width=\"600\" />"
   ]
  },
  {
   "cell_type": "markdown",
   "id": "10e5ec52-27a9-42e5-ba9b-911d41c8dee9",
   "metadata": {},
   "source": [
    "The graph would probably look similar to (b). Given the small σ<sub>η</sub>, our noise is small so our error bars are going to be small. We're slightly less certain about our prior (which is correct) compared to (b), but we have a bunch of training points to establish a high level of credibility."
   ]
  }
 ],
 "metadata": {
  "kernelspec": {
   "display_name": "Python 3 (ipykernel)",
   "language": "python",
   "name": "python3"
  },
  "language_info": {
   "codemirror_mode": {
    "name": "ipython",
    "version": 3
   },
   "file_extension": ".py",
   "mimetype": "text/x-python",
   "name": "python",
   "nbconvert_exporter": "python",
   "pygments_lexer": "ipython3",
   "version": "3.8.5"
  },
  "toc-showcode": true
 },
 "nbformat": 4,
 "nbformat_minor": 5
}
