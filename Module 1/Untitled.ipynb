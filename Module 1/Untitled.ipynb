{
 "cells": [
  {
   "cell_type": "markdown",
   "id": "c268f1fe-a912-4084-8042-b7fc60f71c77",
   "metadata": {},
   "source": [
    "# Homework 1: Probability Review and Priors\n",
    "## DS 6040\n",
    "## Drew Haynes (rbc6wr)"
   ]
  },
  {
   "cell_type": "code",
   "execution_count": 1,
   "id": "93dfd592-ea21-42c3-93f1-6148b10c7591",
   "metadata": {},
   "outputs": [],
   "source": [
    "import numpy as np"
   ]
  },
  {
   "cell_type": "markdown",
   "id": "c8bf1200-419e-4c0b-a2e1-e1ec5d0a35f6",
   "metadata": {},
   "source": [
    "1. (15) You are a data scientist and are choosing between three approaches,\n",
    "A, B, and C, to a problem. With approach A you will spend a total of\n",
    "four days coding and running an algorithm and it will not produce useful\n",
    "results. With approach B you will spend a total of three days coding\n",
    "and running an algorithm and it will not produce useful results. With\n",
    "approach C you will spend one day coding and running an algorithm and\n",
    "it will give the results you are looking for. You are starting your project\n",
    "and do not know which approach will work, and so are equally likely to\n",
    "choose among unselected options but if your selected approach does not\n",
    "work you will select a new one and continue until you get useful results.\n",
    "What is the expected time in days for you to obtain the results you are\n",
    "looking for? What is the variance on this time?"
   ]
  },
  {
   "cell_type": "markdown",
   "id": "6fc12313-6eb0-4621-aafb-b37835fc57e0",
   "metadata": {},
   "source": [
    "$\\frac{1}{3}$ of the time, your first approach is C, resulting in a total of one day. $\\frac{1}{6}$ of the time, your first approach is A, and your second approach is C, resulting in a total of 5 days.  $\\frac{1}{6}$ of the time, your first approach is A, your second approach is B, and your final approach is C, resulting in a total of 8 days. $\\frac{1}{6}$ of the time, your first approach is b, and your second approach is C, resulting in a total of 4 days.  $\\frac{1}{6}$ of the time, your first approach is B, your second approach is A, and your final approach is C, resulting in a total of 8 days. This can be represented by the multiset {1, 1, 4, 5, 8, 8}. This results in an expected time of 4.5, and a variance of 8.25"
   ]
  },
  {
   "cell_type": "code",
   "execution_count": 5,
   "id": "c55accb6-2ccb-4650-b36f-cd2082a82824",
   "metadata": {},
   "outputs": [
    {
     "name": "stdout",
     "output_type": "stream",
     "text": [
      "Expected Value:  4.5 \n",
      "Variance:  8.25\n"
     ]
    }
   ],
   "source": [
    "outcomes = np.array([1, 1, 4, 5, 8, 8])\n",
    "print('Expected Value: ', outcomes.mean(), '\\nVariance: ', outcomes.var())\n"
   ]
  },
  {
   "cell_type": "markdown",
   "id": "cbbf9da9-005b-4698-9d9e-296095414c80",
   "metadata": {},
   "source": [
    "2. (15) Suppose if it is sunny or not in Charlottesville depends on the weather\n",
    "of the last three days. Show how this can be modeled as a Markov chain\n",
    "by displaying a diagram and transition matrix"
   ]
  },
  {
   "cell_type": "markdown",
   "id": "9c5491f3-1186-4bc7-b837-63b49e63f3ab",
   "metadata": {},
   "source": [
    "|         | **SSS**   | **SSR**   | **SRS**   | **SRR**   | **RSS**   | **RSR**   | **RRS**   | **RRR**   |\n",
    "|---------|-----------|-----------|-----------|-----------|-----------|-----------|-----------|-----------|\n",
    "| **SSS** | P(S\\|SSS) | P(R\\|SSS) | 0         | 0         | 0         | 0         | 0         | 0         |\n",
    "| **SSR** | 0         | 0         | P(S\\|SSR) | P(R\\|SSR) | 0         | 0         | 0         | 0         |\n",
    "| **SRS** | 0         | 0         | 0         | 0         | P(S\\|SRS) | P(R\\|SRS) | 0         | 0         |\n",
    "| **SRR** | 0         | 0         | 0         | 0         | 0         | 0         | P(S\\|SRR) | P(R\\|SRR) |\n",
    "| **RSS** | P(S\\|RSS) | P(R\\|RSS) | 0         | 0         | 0         | 0         | 0         | 0         |\n",
    "| **RSR** | 0         | 0         | P(S\\|RSR) | P(R\\|RSR) | 0         | 0         | 0         | 0         |\n",
    "| **RRS** | 0         | 0         | 0         | 0         | P(S\\|RRS) | P(R\\|RRS) | 0         | 0         |\n",
    "| **RRR** | 0         | 0         | 0         | 0         | 0         | 0         | P(S\\|RRR) | P(R\\|RRR) |"
   ]
  },
  {
   "cell_type": "code",
   "execution_count": null,
   "id": "28f3d6ef-0ba7-4234-b8a0-1c073b639814",
   "metadata": {},
   "outputs": [],
   "source": []
  }
 ],
 "metadata": {
  "kernelspec": {
   "display_name": "Python 3 (ipykernel)",
   "language": "python",
   "name": "python3"
  },
  "language_info": {
   "codemirror_mode": {
    "name": "ipython",
    "version": 3
   },
   "file_extension": ".py",
   "mimetype": "text/x-python",
   "name": "python",
   "nbconvert_exporter": "python",
   "pygments_lexer": "ipython3",
   "version": "3.8.5"
  }
 },
 "nbformat": 4,
 "nbformat_minor": 5
}
